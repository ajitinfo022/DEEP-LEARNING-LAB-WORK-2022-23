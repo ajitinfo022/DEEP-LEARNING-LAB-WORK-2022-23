{
  "cells": [
    {
      "cell_type": "markdown",
      "metadata": {
        "id": "Kfg862bLq7oG"
      },
      "source": [
        "# Deep Learning: Assignment 1"
      ]
    },
    {
      "cell_type": "markdown",
      "metadata": {
        "id": "_S7SopG2q7oJ"
      },
      "source": [
        "<ol>\n",
        "<li>Take any different dataset (apart from breast cancer) that has target value binary (0 OR 1).\n",
        "<li>Visualize the data using various graphs using matplotlib or sklearn python libraries.\n",
        "<li>Transform data according to model requirements. HINT [MP-Neuron takes only BINARY DATA as input]\n",
        "<li>Split the data for training and testing.\n",
        "<li>Train MP-Neuron Model on the choosen dataset and test it on the testing set to get model accuracy.\n",
        "<li>Train Perceptron Model on the choosen dataset and test it on the testing set to get model accuracy.\n",
        "</ol>"
      ]
    },
    {
      "cell_type": "markdown",
      "metadata": {
        "id": "0dUdY8lmq7oK"
      },
      "source": [
        "### Import necessary Libraries and Dataset"
      ]
    },
    {
      "cell_type": "code",
      "execution_count": null,
      "metadata": {
        "id": "kp-p9FXpq7oK"
      },
      "outputs": [],
      "source": [
        "#import necessary libraries\n",
        "import pandas as pd\n",
        "import numpy as np\n",
        "import seaborn as sns\n",
        "from sklearn.model_selection import train_test_split\n",
        "from sklearn.metrics import accuracy_score"
      ]
    },
    {
      "cell_type": "code",
      "execution_count": null,
      "metadata": {
        "id": "1Egtmjgwq7oM"
      },
      "outputs": [],
      "source": [
        "#import dataset\n",
        "df = sns.load_dataset('titanic')"
      ]
    },
    {
      "cell_type": "code",
      "execution_count": null,
      "metadata": {
        "id": "Olcien65q7oM",
        "outputId": "2d8377db-5620-4c3f-ed60-175efcc6e925"
      },
      "outputs": [
        {
          "data": {
            "text/html": [
              "<div>\n",
              "<style scoped>\n",
              "    .dataframe tbody tr th:only-of-type {\n",
              "        vertical-align: middle;\n",
              "    }\n",
              "\n",
              "    .dataframe tbody tr th {\n",
              "        vertical-align: top;\n",
              "    }\n",
              "\n",
              "    .dataframe thead th {\n",
              "        text-align: right;\n",
              "    }\n",
              "</style>\n",
              "<table border=\"1\" class=\"dataframe\">\n",
              "  <thead>\n",
              "    <tr style=\"text-align: right;\">\n",
              "      <th></th>\n",
              "      <th>survived</th>\n",
              "      <th>pclass</th>\n",
              "      <th>sex</th>\n",
              "      <th>age</th>\n",
              "      <th>sibsp</th>\n",
              "      <th>parch</th>\n",
              "      <th>fare</th>\n",
              "      <th>embarked</th>\n",
              "      <th>class</th>\n",
              "      <th>who</th>\n",
              "      <th>adult_male</th>\n",
              "      <th>deck</th>\n",
              "      <th>embark_town</th>\n",
              "      <th>alive</th>\n",
              "      <th>alone</th>\n",
              "    </tr>\n",
              "  </thead>\n",
              "  <tbody>\n",
              "    <tr>\n",
              "      <th>0</th>\n",
              "      <td>0</td>\n",
              "      <td>3</td>\n",
              "      <td>male</td>\n",
              "      <td>22.0</td>\n",
              "      <td>1</td>\n",
              "      <td>0</td>\n",
              "      <td>7.2500</td>\n",
              "      <td>S</td>\n",
              "      <td>Third</td>\n",
              "      <td>man</td>\n",
              "      <td>True</td>\n",
              "      <td>NaN</td>\n",
              "      <td>Southampton</td>\n",
              "      <td>no</td>\n",
              "      <td>False</td>\n",
              "    </tr>\n",
              "    <tr>\n",
              "      <th>1</th>\n",
              "      <td>1</td>\n",
              "      <td>1</td>\n",
              "      <td>female</td>\n",
              "      <td>38.0</td>\n",
              "      <td>1</td>\n",
              "      <td>0</td>\n",
              "      <td>71.2833</td>\n",
              "      <td>C</td>\n",
              "      <td>First</td>\n",
              "      <td>woman</td>\n",
              "      <td>False</td>\n",
              "      <td>C</td>\n",
              "      <td>Cherbourg</td>\n",
              "      <td>yes</td>\n",
              "      <td>False</td>\n",
              "    </tr>\n",
              "    <tr>\n",
              "      <th>2</th>\n",
              "      <td>1</td>\n",
              "      <td>3</td>\n",
              "      <td>female</td>\n",
              "      <td>26.0</td>\n",
              "      <td>0</td>\n",
              "      <td>0</td>\n",
              "      <td>7.9250</td>\n",
              "      <td>S</td>\n",
              "      <td>Third</td>\n",
              "      <td>woman</td>\n",
              "      <td>False</td>\n",
              "      <td>NaN</td>\n",
              "      <td>Southampton</td>\n",
              "      <td>yes</td>\n",
              "      <td>True</td>\n",
              "    </tr>\n",
              "    <tr>\n",
              "      <th>3</th>\n",
              "      <td>1</td>\n",
              "      <td>1</td>\n",
              "      <td>female</td>\n",
              "      <td>35.0</td>\n",
              "      <td>1</td>\n",
              "      <td>0</td>\n",
              "      <td>53.1000</td>\n",
              "      <td>S</td>\n",
              "      <td>First</td>\n",
              "      <td>woman</td>\n",
              "      <td>False</td>\n",
              "      <td>C</td>\n",
              "      <td>Southampton</td>\n",
              "      <td>yes</td>\n",
              "      <td>False</td>\n",
              "    </tr>\n",
              "    <tr>\n",
              "      <th>4</th>\n",
              "      <td>0</td>\n",
              "      <td>3</td>\n",
              "      <td>male</td>\n",
              "      <td>35.0</td>\n",
              "      <td>0</td>\n",
              "      <td>0</td>\n",
              "      <td>8.0500</td>\n",
              "      <td>S</td>\n",
              "      <td>Third</td>\n",
              "      <td>man</td>\n",
              "      <td>True</td>\n",
              "      <td>NaN</td>\n",
              "      <td>Southampton</td>\n",
              "      <td>no</td>\n",
              "      <td>True</td>\n",
              "    </tr>\n",
              "  </tbody>\n",
              "</table>\n",
              "</div>"
            ],
            "text/plain": [
              "   survived  pclass     sex   age  sibsp  parch     fare embarked  class  \\\n",
              "0         0       3    male  22.0      1      0   7.2500        S  Third   \n",
              "1         1       1  female  38.0      1      0  71.2833        C  First   \n",
              "2         1       3  female  26.0      0      0   7.9250        S  Third   \n",
              "3         1       1  female  35.0      1      0  53.1000        S  First   \n",
              "4         0       3    male  35.0      0      0   8.0500        S  Third   \n",
              "\n",
              "     who  adult_male deck  embark_town alive  alone  \n",
              "0    man        True  NaN  Southampton    no  False  \n",
              "1  woman       False    C    Cherbourg   yes  False  \n",
              "2  woman       False  NaN  Southampton   yes   True  \n",
              "3  woman       False    C  Southampton   yes  False  \n",
              "4    man        True  NaN  Southampton    no   True  "
            ]
          },
          "execution_count": 3,
          "metadata": {},
          "output_type": "execute_result"
        }
      ],
      "source": [
        "#view data\n",
        "df.head()"
      ]
    },
    {
      "cell_type": "code",
      "execution_count": null,
      "metadata": {
        "id": "9i3JUngZq7oO",
        "outputId": "5c42005b-5c81-407e-be6d-920ff5a17165"
      },
      "outputs": [
        {
          "name": "stdout",
          "output_type": "stream",
          "text": [
            "<class 'pandas.core.frame.DataFrame'>\n",
            "RangeIndex: 891 entries, 0 to 890\n",
            "Data columns (total 15 columns):\n",
            " #   Column       Non-Null Count  Dtype   \n",
            "---  ------       --------------  -----   \n",
            " 0   survived     891 non-null    int64   \n",
            " 1   pclass       891 non-null    int64   \n",
            " 2   sex          891 non-null    object  \n",
            " 3   age          714 non-null    float64 \n",
            " 4   sibsp        891 non-null    int64   \n",
            " 5   parch        891 non-null    int64   \n",
            " 6   fare         891 non-null    float64 \n",
            " 7   embarked     889 non-null    object  \n",
            " 8   class        891 non-null    category\n",
            " 9   who          891 non-null    object  \n",
            " 10  adult_male   891 non-null    bool    \n",
            " 11  deck         203 non-null    category\n",
            " 12  embark_town  889 non-null    object  \n",
            " 13  alive        891 non-null    object  \n",
            " 14  alone        891 non-null    bool    \n",
            "dtypes: bool(2), category(2), float64(2), int64(4), object(5)\n",
            "memory usage: 80.6+ KB\n"
          ]
        }
      ],
      "source": [
        "#view data info\n",
        "df.info()"
      ]
    },
    {
      "cell_type": "markdown",
      "metadata": {
        "id": "4GEvEcq1q7oP"
      },
      "source": [
        "### EDA"
      ]
    },
    {
      "cell_type": "code",
      "execution_count": null,
      "metadata": {
        "id": "n2t0QCV_q7oP",
        "outputId": "fe7977d8-812d-4a1e-ba58-9b7bff33fd40"
      },
      "outputs": [
        {
          "data": {
            "text/plain": [
              "Index(['survived', 'pclass', 'sex', 'age', 'sibsp', 'parch', 'fare',\n",
              "       'embarked', 'class', 'who', 'adult_male', 'deck', 'embark_town',\n",
              "       'alive', 'alone'],\n",
              "      dtype='object')"
            ]
          },
          "execution_count": 5,
          "metadata": {},
          "output_type": "execute_result"
        }
      ],
      "source": [
        "sns.set()\n",
        "df.columns"
      ]
    },
    {
      "cell_type": "code",
      "execution_count": null,
      "metadata": {
        "id": "pNteyHUQq7oQ",
        "outputId": "f2d5a562-14a1-442e-dd12-43af218b40b1"
      },
      "outputs": [
        {
          "data": {
            "text/plain": [
              "<matplotlib.axes._subplots.AxesSubplot at 0x2ad0ef1d9d0>"
            ]
          },
          "execution_count": 6,
          "metadata": {},
          "output_type": "execute_result"
        },
        {
          "data": {
            "image/png": "[encoded data removed]",
            "text/plain": [
              "<Figure size 432x288 with 1 Axes>"
            ]
          },
          "metadata": {},
          "output_type": "display_data"
        }
      ],
      "source": [
        "df.survived.value_counts().plot(kind='pie',autopct='%.1f')"
      ]
    },
    {
      "cell_type": "code",
      "execution_count": null,
      "metadata": {
        "id": "9po2omXsq7oQ",
        "outputId": "4509bbac-8a44-46ad-d334-cb934dbfdc0f"
      },
      "outputs": [
        {
          "data": {
            "text/plain": [
              "<matplotlib.axes._subplots.AxesSubplot at 0x2ad0f661160>"
            ]
          },
          "execution_count": 7,
          "metadata": {},
          "output_type": "execute_result"
        },
        {
          "data": {
            "image/png": "[encoded data removed]",
            "text/plain": [
              "<Figure size 432x288 with 1 Axes>"
            ]
          },
          "metadata": {},
          "output_type": "display_data"
        }
      ],
      "source": [
        "sns.kdeplot(df['age'])\n",
        "sns.kdeplot(df['fare'])"
      ]
    },
    {
      "cell_type": "code",
      "execution_count": null,
      "metadata": {
        "id": "kjVENYImq7oR",
        "outputId": "30f75450-faab-43fe-c903-1a391cdc69ee"
      },
      "outputs": [
        {
          "data": {
            "text/plain": [
              "<matplotlib.axes._subplots.AxesSubplot at 0x2ad0f6c09d0>"
            ]
          },
          "execution_count": 8,
          "metadata": {},
          "output_type": "execute_result"
        },
        {
          "data": {
            "image/png": "[encoded data removed]",
            "text/plain": [
              "<Figure size 432x288 with 1 Axes>"
            ]
          },
          "metadata": {},
          "output_type": "display_data"
        }
      ],
      "source": [
        "sns.countplot(df['pclass'])"
      ]
    },
    {
      "cell_type": "code",
      "execution_count": null,
      "metadata": {
        "id": "tT2TKx9Mq7oR",
        "outputId": "5ce92a9f-8039-471b-e46a-ac8efb984882"
      },
      "outputs": [
        {
          "data": {
            "text/plain": [
              "<matplotlib.axes._subplots.AxesSubplot at 0x2ad0f747760>"
            ]
          },
          "execution_count": 9,
          "metadata": {},
          "output_type": "execute_result"
        },
        {
          "data": {
            "image/png": "[encoded data removed]",
            "text/plain": [
              "<Figure size 432x288 with 1 Axes>"
            ]
          },
          "metadata": {},
          "output_type": "display_data"
        }
      ],
      "source": [
        "sns.countplot(df['embarked'])"
      ]
    },
    {
      "cell_type": "code",
      "execution_count": null,
      "metadata": {
        "id": "RH1HzgxHq7oR",
        "outputId": "ec22e709-7564-4817-b5a6-83650772fa7c"
      },
      "outputs": [
        {
          "data": {
            "text/plain": [
              "<matplotlib.axes._subplots.AxesSubplot at 0x2ad0f6258b0>"
            ]
          },
          "execution_count": 10,
          "metadata": {},
          "output_type": "execute_result"
        },
        {
          "data": {
            "image/png": "[encoded data removed]",
            "text/plain": [
              "<Figure size 432x288 with 1 Axes>"
            ]
          },
          "metadata": {},
          "output_type": "display_data"
        }
      ],
      "source": [
        "sns.countplot(df['deck'])"
      ]
    },
    {
      "cell_type": "markdown",
      "metadata": {
        "id": "Aq99pCQiq7oS"
      },
      "source": [
        "### Data Wrangling"
      ]
    },
    {
      "cell_type": "code",
      "execution_count": null,
      "metadata": {
        "id": "I1OPZQ__q7oS"
      },
      "outputs": [],
      "source": [
        "#drop unnecessary columns\n",
        "df.drop(['who','embark_town','adult_male','alive'], axis=1, inplace=True)"
      ]
    },
    {
      "cell_type": "code",
      "execution_count": null,
      "metadata": {
        "id": "J9JK8lY2q7oS",
        "outputId": "e00ed869-de00-438e-958e-774bb41aa865"
      },
      "outputs": [
        {
          "data": {
            "text/html": [
              "<div>\n",
              "<style scoped>\n",
              "    .dataframe tbody tr th:only-of-type {\n",
              "        vertical-align: middle;\n",
              "    }\n",
              "\n",
              "    .dataframe tbody tr th {\n",
              "        vertical-align: top;\n",
              "    }\n",
              "\n",
              "    .dataframe thead th {\n",
              "        text-align: right;\n",
              "    }\n",
              "</style>\n",
              "<table border=\"1\" class=\"dataframe\">\n",
              "  <thead>\n",
              "    <tr style=\"text-align: right;\">\n",
              "      <th></th>\n",
              "      <th>survived</th>\n",
              "      <th>pclass</th>\n",
              "      <th>age</th>\n",
              "      <th>sibsp</th>\n",
              "      <th>parch</th>\n",
              "      <th>fare</th>\n",
              "    </tr>\n",
              "  </thead>\n",
              "  <tbody>\n",
              "    <tr>\n",
              "      <th>count</th>\n",
              "      <td>891.000000</td>\n",
              "      <td>891.000000</td>\n",
              "      <td>714.000000</td>\n",
              "      <td>891.000000</td>\n",
              "      <td>891.000000</td>\n",
              "      <td>891.000000</td>\n",
              "    </tr>\n",
              "    <tr>\n",
              "      <th>mean</th>\n",
              "      <td>0.383838</td>\n",
              "      <td>2.308642</td>\n",
              "      <td>29.699118</td>\n",
              "      <td>0.523008</td>\n",
              "      <td>0.381594</td>\n",
              "      <td>32.204208</td>\n",
              "    </tr>\n",
              "    <tr>\n",
              "      <th>std</th>\n",
              "      <td>0.486592</td>\n",
              "      <td>0.836071</td>\n",
              "      <td>14.526497</td>\n",
              "      <td>1.102743</td>\n",
              "      <td>0.806057</td>\n",
              "      <td>49.693429</td>\n",
              "    </tr>\n",
              "    <tr>\n",
              "      <th>min</th>\n",
              "      <td>0.000000</td>\n",
              "      <td>1.000000</td>\n",
              "      <td>0.420000</td>\n",
              "      <td>0.000000</td>\n",
              "      <td>0.000000</td>\n",
              "      <td>0.000000</td>\n",
              "    </tr>\n",
              "    <tr>\n",
              "      <th>25%</th>\n",
              "      <td>0.000000</td>\n",
              "      <td>2.000000</td>\n",
              "      <td>20.125000</td>\n",
              "      <td>0.000000</td>\n",
              "      <td>0.000000</td>\n",
              "      <td>7.910400</td>\n",
              "    </tr>\n",
              "    <tr>\n",
              "      <th>50%</th>\n",
              "      <td>0.000000</td>\n",
              "      <td>3.000000</td>\n",
              "      <td>28.000000</td>\n",
              "      <td>0.000000</td>\n",
              "      <td>0.000000</td>\n",
              "      <td>14.454200</td>\n",
              "    </tr>\n",
              "    <tr>\n",
              "      <th>75%</th>\n",
              "      <td>1.000000</td>\n",
              "      <td>3.000000</td>\n",
              "      <td>38.000000</td>\n",
              "      <td>1.000000</td>\n",
              "      <td>0.000000</td>\n",
              "      <td>31.000000</td>\n",
              "    </tr>\n",
              "    <tr>\n",
              "      <th>max</th>\n",
              "      <td>1.000000</td>\n",
              "      <td>3.000000</td>\n",
              "      <td>80.000000</td>\n",
              "      <td>8.000000</td>\n",
              "      <td>6.000000</td>\n",
              "      <td>512.329200</td>\n",
              "    </tr>\n",
              "  </tbody>\n",
              "</table>\n",
              "</div>"
            ],
            "text/plain": [
              "         survived      pclass         age       sibsp       parch        fare\n",
              "count  891.000000  891.000000  714.000000  891.000000  891.000000  891.000000\n",
              "mean     0.383838    2.308642   29.699118    0.523008    0.381594   32.204208\n",
              "std      0.486592    0.836071   14.526497    1.102743    0.806057   49.693429\n",
              "min      0.000000    1.000000    0.420000    0.000000    0.000000    0.000000\n",
              "25%      0.000000    2.000000   20.125000    0.000000    0.000000    7.910400\n",
              "50%      0.000000    3.000000   28.000000    0.000000    0.000000   14.454200\n",
              "75%      1.000000    3.000000   38.000000    1.000000    0.000000   31.000000\n",
              "max      1.000000    3.000000   80.000000    8.000000    6.000000  512.329200"
            ]
          },
          "execution_count": 12,
          "metadata": {},
          "output_type": "execute_result"
        }
      ],
      "source": [
        "#view data metrics\n",
        "df.describe()"
      ]
    },
    {
      "cell_type": "code",
      "execution_count": null,
      "metadata": {
        "id": "ISclcKzSq7oT",
        "outputId": "b3b03316-ec0e-4b8a-de6f-892d62dc9fd5"
      },
      "outputs": [
        {
          "data": {
            "text/plain": [
              "(784, 11)"
            ]
          },
          "execution_count": 13,
          "metadata": {},
          "output_type": "execute_result"
        }
      ],
      "source": [
        "#drop duplicates\n",
        "df.drop_duplicates(keep='first', inplace=True)\n",
        "df.shape"
      ]
    },
    {
      "cell_type": "code",
      "execution_count": null,
      "metadata": {
        "id": "ZaPrainZq7oT",
        "outputId": "bdd2025d-63ff-487d-c5d5-b3ffd295b93b"
      },
      "outputs": [
        {
          "data": {
            "text/plain": [
              "survived      0\n",
              "pclass        0\n",
              "sex           0\n",
              "age         106\n",
              "sibsp         0\n",
              "parch         0\n",
              "fare          0\n",
              "embarked      2\n",
              "class         0\n",
              "deck        582\n",
              "alone         0\n",
              "dtype: int64"
            ]
          },
          "execution_count": 14,
          "metadata": {},
          "output_type": "execute_result"
        }
      ],
      "source": [
        "#count null values\n",
        "df.isna().sum()"
      ]
    },
    {
      "cell_type": "code",
      "execution_count": null,
      "metadata": {
        "id": "5ca9DFexq7oT"
      },
      "outputs": [],
      "source": [
        "#impute null values in age column with mean\n",
        "df['age'].fillna(value=df['age'].mean(), inplace=True)"
      ]
    },
    {
      "cell_type": "code",
      "execution_count": null,
      "metadata": {
        "id": "wzOdJ1HRq7oU"
      },
      "outputs": [],
      "source": [
        "#impute null values in deck column\n",
        "df['deck'] = df['deck'].cat.add_categories('Unknown')\n",
        "df['deck'].fillna(value=\"Unknown\", inplace=True)"
      ]
    },
    {
      "cell_type": "code",
      "execution_count": null,
      "metadata": {
        "id": "s4PnRt5Hq7oU",
        "outputId": "9d2f0412-09e6-4063-a810-85c5ec1d3bf1"
      },
      "outputs": [
        {
          "data": {
            "text/plain": [
              "(782, 11)"
            ]
          },
          "execution_count": 17,
          "metadata": {},
          "output_type": "execute_result"
        }
      ],
      "source": [
        "#drop null values\n",
        "df.dropna(inplace=True)\n",
        "df.shape"
      ]
    },
    {
      "cell_type": "code",
      "execution_count": null,
      "metadata": {
        "id": "cL7dP5Eiq7oU"
      },
      "outputs": [],
      "source": [
        "df.reset_index(drop=True, inplace=True)"
      ]
    },
    {
      "cell_type": "markdown",
      "metadata": {
        "id": "TMqfkSdiq7oV"
      },
      "source": [
        "**Convert to Binary Values**"
      ]
    },
    {
      "cell_type": "code",
      "execution_count": null,
      "metadata": {
        "id": "9ck-YIUIq7oV",
        "outputId": "2affbd9c-ec49-430d-e805-37aaaa625b0e"
      },
      "outputs": [
        {
          "data": {
            "text/plain": [
              "Index(['survived', 'pclass', 'sex', 'age', 'sibsp', 'parch', 'fare',\n",
              "       'embarked', 'class', 'deck', 'alone'],\n",
              "      dtype='object')"
            ]
          },
          "execution_count": 19,
          "metadata": {},
          "output_type": "execute_result"
        }
      ],
      "source": [
        "df.columns"
      ]
    },
    {
      "cell_type": "code",
      "execution_count": null,
      "metadata": {
        "id": "IPYHLI8eq7oV"
      },
      "outputs": [],
      "source": [
        "pclass_ = pd.get_dummies(df['pclass'])\n",
        "embarked_ = pd.get_dummies(df['embarked'])\n",
        "sibsp_ = pd.get_dummies(df['sibsp'])\n",
        "parch_ = pd.get_dummies(df['parch'])\n",
        "class_ = pd.get_dummies(df['class'])\n",
        "deck_ = pd.get_dummies(df['deck'])\n",
        "\n",
        "df['Age_bins'] = pd.cut(x=df['age'], bins=[i for i in range(0,100,25)], labels=['0to25','26to50','50to75'])\n",
        "age_ = pd.get_dummies(df['Age_bins'])\n",
        "\n",
        "df['Fare_bins'] = pd.cut(x=df['fare'], bins=[i for i in range(0,600,200)], labels=['0to200','200to400'])\n",
        "fare_ = pd.get_dummies(df['Fare_bins'])"
      ]
    },
    {
      "cell_type": "code",
      "execution_count": null,
      "metadata": {
        "id": "VVP7z9DWq7oW",
        "outputId": "17395bb9-cbf1-4b7a-e55d-8d1e17182905"
      },
      "outputs": [
        {
          "data": {
            "text/html": [
              "<div>\n",
              "<style scoped>\n",
              "    .dataframe tbody tr th:only-of-type {\n",
              "        vertical-align: middle;\n",
              "    }\n",
              "\n",
              "    .dataframe tbody tr th {\n",
              "        vertical-align: top;\n",
              "    }\n",
              "\n",
              "    .dataframe thead th {\n",
              "        text-align: right;\n",
              "    }\n",
              "</style>\n",
              "<table border=\"1\" class=\"dataframe\">\n",
              "  <thead>\n",
              "    <tr style=\"text-align: right;\">\n",
              "      <th></th>\n",
              "      <th>survived</th>\n",
              "      <th>pclass</th>\n",
              "      <th>sex</th>\n",
              "      <th>age</th>\n",
              "      <th>sibsp</th>\n",
              "      <th>parch</th>\n",
              "      <th>fare</th>\n",
              "      <th>embarked</th>\n",
              "      <th>class</th>\n",
              "      <th>deck</th>\n",
              "      <th>alone</th>\n",
              "      <th>Age_bins</th>\n",
              "      <th>Fare_bins</th>\n",
              "    </tr>\n",
              "  </thead>\n",
              "  <tbody>\n",
              "    <tr>\n",
              "      <th>0</th>\n",
              "      <td>0</td>\n",
              "      <td>3</td>\n",
              "      <td>male</td>\n",
              "      <td>22.0</td>\n",
              "      <td>1</td>\n",
              "      <td>0</td>\n",
              "      <td>7.2500</td>\n",
              "      <td>S</td>\n",
              "      <td>Third</td>\n",
              "      <td>Unknown</td>\n",
              "      <td>False</td>\n",
              "      <td>0to25</td>\n",
              "      <td>0to200</td>\n",
              "    </tr>\n",
              "    <tr>\n",
              "      <th>1</th>\n",
              "      <td>1</td>\n",
              "      <td>1</td>\n",
              "      <td>female</td>\n",
              "      <td>38.0</td>\n",
              "      <td>1</td>\n",
              "      <td>0</td>\n",
              "      <td>71.2833</td>\n",
              "      <td>C</td>\n",
              "      <td>First</td>\n",
              "      <td>C</td>\n",
              "      <td>False</td>\n",
              "      <td>26to50</td>\n",
              "      <td>0to200</td>\n",
              "    </tr>\n",
              "    <tr>\n",
              "      <th>2</th>\n",
              "      <td>1</td>\n",
              "      <td>3</td>\n",
              "      <td>female</td>\n",
              "      <td>26.0</td>\n",
              "      <td>0</td>\n",
              "      <td>0</td>\n",
              "      <td>7.9250</td>\n",
              "      <td>S</td>\n",
              "      <td>Third</td>\n",
              "      <td>Unknown</td>\n",
              "      <td>True</td>\n",
              "      <td>26to50</td>\n",
              "      <td>0to200</td>\n",
              "    </tr>\n",
              "    <tr>\n",
              "      <th>3</th>\n",
              "      <td>1</td>\n",
              "      <td>1</td>\n",
              "      <td>female</td>\n",
              "      <td>35.0</td>\n",
              "      <td>1</td>\n",
              "      <td>0</td>\n",
              "      <td>53.1000</td>\n",
              "      <td>S</td>\n",
              "      <td>First</td>\n",
              "      <td>C</td>\n",
              "      <td>False</td>\n",
              "      <td>26to50</td>\n",
              "      <td>0to200</td>\n",
              "    </tr>\n",
              "    <tr>\n",
              "      <th>4</th>\n",
              "      <td>0</td>\n",
              "      <td>3</td>\n",
              "      <td>male</td>\n",
              "      <td>35.0</td>\n",
              "      <td>0</td>\n",
              "      <td>0</td>\n",
              "      <td>8.0500</td>\n",
              "      <td>S</td>\n",
              "      <td>Third</td>\n",
              "      <td>Unknown</td>\n",
              "      <td>True</td>\n",
              "      <td>26to50</td>\n",
              "      <td>0to200</td>\n",
              "    </tr>\n",
              "  </tbody>\n",
              "</table>\n",
              "</div>"
            ],
            "text/plain": [
              "   survived  pclass     sex   age  sibsp  parch     fare embarked  class  \\\n",
              "0         0       3    male  22.0      1      0   7.2500        S  Third   \n",
              "1         1       1  female  38.0      1      0  71.2833        C  First   \n",
              "2         1       3  female  26.0      0      0   7.9250        S  Third   \n",
              "3         1       1  female  35.0      1      0  53.1000        S  First   \n",
              "4         0       3    male  35.0      0      0   8.0500        S  Third   \n",
              "\n",
              "      deck  alone Age_bins Fare_bins  \n",
              "0  Unknown  False    0to25    0to200  \n",
              "1        C  False   26to50    0to200  \n",
              "2  Unknown   True   26to50    0to200  \n",
              "3        C  False   26to50    0to200  \n",
              "4  Unknown   True   26to50    0to200  "
            ]
          },
          "execution_count": 21,
          "metadata": {},
          "output_type": "execute_result"
        }
      ],
      "source": [
        "df.head()"
      ]
    },
    {
      "cell_type": "code",
      "execution_count": null,
      "metadata": {
        "id": "rCwBSTSeq7oW"
      },
      "outputs": [],
      "source": [
        "df.drop(['Age_bins','Fare_bins'], axis=1, inplace=True)"
      ]
    },
    {
      "cell_type": "code",
      "execution_count": null,
      "metadata": {
        "id": "7a1fQNuEq7oW"
      },
      "outputs": [],
      "source": [
        "pclass_ = pclass_.add_suffix('_pclass')\n",
        "embarked_ = embarked_.add_suffix('_embarked')\n",
        "sibsp_ = sibsp_.add_suffix('_sibsp')\n",
        "parch_ = parch_.add_suffix('_parch')\n",
        "class_ = class_.add_suffix('_class')\n",
        "deck_ = class_.add_suffix('_deck')\n",
        "age_ = age_.add_suffix('_age')\n",
        "fare_ = fare_.add_suffix('_fare')"
      ]
    },
    {
      "cell_type": "code",
      "execution_count": null,
      "metadata": {
        "id": "czrl6Wgfq7oW",
        "outputId": "4d8bf142-ac92-4a98-887e-ce876f3d9dfd"
      },
      "outputs": [
        {
          "data": {
            "text/html": [
              "<div>\n",
              "<style scoped>\n",
              "    .dataframe tbody tr th:only-of-type {\n",
              "        vertical-align: middle;\n",
              "    }\n",
              "\n",
              "    .dataframe tbody tr th {\n",
              "        vertical-align: top;\n",
              "    }\n",
              "\n",
              "    .dataframe thead th {\n",
              "        text-align: right;\n",
              "    }\n",
              "</style>\n",
              "<table border=\"1\" class=\"dataframe\">\n",
              "  <thead>\n",
              "    <tr style=\"text-align: right;\">\n",
              "      <th></th>\n",
              "      <th>survived</th>\n",
              "      <th>pclass</th>\n",
              "      <th>sex</th>\n",
              "      <th>age</th>\n",
              "      <th>sibsp</th>\n",
              "      <th>parch</th>\n",
              "      <th>fare</th>\n",
              "      <th>embarked</th>\n",
              "      <th>class</th>\n",
              "      <th>deck</th>\n",
              "      <th>alone</th>\n",
              "    </tr>\n",
              "  </thead>\n",
              "  <tbody>\n",
              "    <tr>\n",
              "      <th>0</th>\n",
              "      <td>0</td>\n",
              "      <td>3</td>\n",
              "      <td>male</td>\n",
              "      <td>22.0</td>\n",
              "      <td>1</td>\n",
              "      <td>0</td>\n",
              "      <td>7.2500</td>\n",
              "      <td>S</td>\n",
              "      <td>Third</td>\n",
              "      <td>Unknown</td>\n",
              "      <td>False</td>\n",
              "    </tr>\n",
              "    <tr>\n",
              "      <th>1</th>\n",
              "      <td>1</td>\n",
              "      <td>1</td>\n",
              "      <td>female</td>\n",
              "      <td>38.0</td>\n",
              "      <td>1</td>\n",
              "      <td>0</td>\n",
              "      <td>71.2833</td>\n",
              "      <td>C</td>\n",
              "      <td>First</td>\n",
              "      <td>C</td>\n",
              "      <td>False</td>\n",
              "    </tr>\n",
              "    <tr>\n",
              "      <th>2</th>\n",
              "      <td>1</td>\n",
              "      <td>3</td>\n",
              "      <td>female</td>\n",
              "      <td>26.0</td>\n",
              "      <td>0</td>\n",
              "      <td>0</td>\n",
              "      <td>7.9250</td>\n",
              "      <td>S</td>\n",
              "      <td>Third</td>\n",
              "      <td>Unknown</td>\n",
              "      <td>True</td>\n",
              "    </tr>\n",
              "    <tr>\n",
              "      <th>3</th>\n",
              "      <td>1</td>\n",
              "      <td>1</td>\n",
              "      <td>female</td>\n",
              "      <td>35.0</td>\n",
              "      <td>1</td>\n",
              "      <td>0</td>\n",
              "      <td>53.1000</td>\n",
              "      <td>S</td>\n",
              "      <td>First</td>\n",
              "      <td>C</td>\n",
              "      <td>False</td>\n",
              "    </tr>\n",
              "    <tr>\n",
              "      <th>4</th>\n",
              "      <td>0</td>\n",
              "      <td>3</td>\n",
              "      <td>male</td>\n",
              "      <td>35.0</td>\n",
              "      <td>0</td>\n",
              "      <td>0</td>\n",
              "      <td>8.0500</td>\n",
              "      <td>S</td>\n",
              "      <td>Third</td>\n",
              "      <td>Unknown</td>\n",
              "      <td>True</td>\n",
              "    </tr>\n",
              "  </tbody>\n",
              "</table>\n",
              "</div>"
            ],
            "text/plain": [
              "   survived  pclass     sex   age  sibsp  parch     fare embarked  class  \\\n",
              "0         0       3    male  22.0      1      0   7.2500        S  Third   \n",
              "1         1       1  female  38.0      1      0  71.2833        C  First   \n",
              "2         1       3  female  26.0      0      0   7.9250        S  Third   \n",
              "3         1       1  female  35.0      1      0  53.1000        S  First   \n",
              "4         0       3    male  35.0      0      0   8.0500        S  Third   \n",
              "\n",
              "      deck  alone  \n",
              "0  Unknown  False  \n",
              "1        C  False  \n",
              "2  Unknown   True  \n",
              "3        C  False  \n",
              "4  Unknown   True  "
            ]
          },
          "execution_count": 24,
          "metadata": {},
          "output_type": "execute_result"
        }
      ],
      "source": [
        "df.head()"
      ]
    },
    {
      "cell_type": "code",
      "execution_count": null,
      "metadata": {
        "id": "0ZhkPyk3q7oX",
        "outputId": "713bfa86-c665-44ec-f822-f86f22ba46e1"
      },
      "outputs": [
        {
          "data": {
            "text/html": [
              "<div>\n",
              "<style scoped>\n",
              "    .dataframe tbody tr th:only-of-type {\n",
              "        vertical-align: middle;\n",
              "    }\n",
              "\n",
              "    .dataframe tbody tr th {\n",
              "        vertical-align: top;\n",
              "    }\n",
              "\n",
              "    .dataframe thead th {\n",
              "        text-align: right;\n",
              "    }\n",
              "</style>\n",
              "<table border=\"1\" class=\"dataframe\">\n",
              "  <thead>\n",
              "    <tr style=\"text-align: right;\">\n",
              "      <th></th>\n",
              "      <th>survived</th>\n",
              "      <th>1_pclass</th>\n",
              "      <th>2_pclass</th>\n",
              "      <th>3_pclass</th>\n",
              "      <th>sex</th>\n",
              "      <th>0to25_age</th>\n",
              "      <th>26to50_age</th>\n",
              "      <th>50to75_age</th>\n",
              "      <th>0_sibsp</th>\n",
              "      <th>1_sibsp</th>\n",
              "      <th>...</th>\n",
              "      <th>6_parch</th>\n",
              "      <th>0to200_fare</th>\n",
              "      <th>200to400_fare</th>\n",
              "      <th>First_class</th>\n",
              "      <th>Second_class</th>\n",
              "      <th>Third_class</th>\n",
              "      <th>First_class_deck</th>\n",
              "      <th>Second_class_deck</th>\n",
              "      <th>Third_class_deck</th>\n",
              "      <th>alone</th>\n",
              "    </tr>\n",
              "  </thead>\n",
              "  <tbody>\n",
              "    <tr>\n",
              "      <th>0</th>\n",
              "      <td>0</td>\n",
              "      <td>0</td>\n",
              "      <td>0</td>\n",
              "      <td>1</td>\n",
              "      <td>male</td>\n",
              "      <td>1</td>\n",
              "      <td>0</td>\n",
              "      <td>0</td>\n",
              "      <td>0</td>\n",
              "      <td>1</td>\n",
              "      <td>...</td>\n",
              "      <td>0</td>\n",
              "      <td>1</td>\n",
              "      <td>0</td>\n",
              "      <td>0</td>\n",
              "      <td>0</td>\n",
              "      <td>1</td>\n",
              "      <td>0</td>\n",
              "      <td>0</td>\n",
              "      <td>1</td>\n",
              "      <td>False</td>\n",
              "    </tr>\n",
              "    <tr>\n",
              "      <th>1</th>\n",
              "      <td>1</td>\n",
              "      <td>1</td>\n",
              "      <td>0</td>\n",
              "      <td>0</td>\n",
              "      <td>female</td>\n",
              "      <td>0</td>\n",
              "      <td>1</td>\n",
              "      <td>0</td>\n",
              "      <td>0</td>\n",
              "      <td>1</td>\n",
              "      <td>...</td>\n",
              "      <td>0</td>\n",
              "      <td>1</td>\n",
              "      <td>0</td>\n",
              "      <td>1</td>\n",
              "      <td>0</td>\n",
              "      <td>0</td>\n",
              "      <td>1</td>\n",
              "      <td>0</td>\n",
              "      <td>0</td>\n",
              "      <td>False</td>\n",
              "    </tr>\n",
              "    <tr>\n",
              "      <th>2</th>\n",
              "      <td>1</td>\n",
              "      <td>0</td>\n",
              "      <td>0</td>\n",
              "      <td>1</td>\n",
              "      <td>female</td>\n",
              "      <td>0</td>\n",
              "      <td>1</td>\n",
              "      <td>0</td>\n",
              "      <td>1</td>\n",
              "      <td>0</td>\n",
              "      <td>...</td>\n",
              "      <td>0</td>\n",
              "      <td>1</td>\n",
              "      <td>0</td>\n",
              "      <td>0</td>\n",
              "      <td>0</td>\n",
              "      <td>1</td>\n",
              "      <td>0</td>\n",
              "      <td>0</td>\n",
              "      <td>1</td>\n",
              "      <td>True</td>\n",
              "    </tr>\n",
              "    <tr>\n",
              "      <th>3</th>\n",
              "      <td>1</td>\n",
              "      <td>1</td>\n",
              "      <td>0</td>\n",
              "      <td>0</td>\n",
              "      <td>female</td>\n",
              "      <td>0</td>\n",
              "      <td>1</td>\n",
              "      <td>0</td>\n",
              "      <td>0</td>\n",
              "      <td>1</td>\n",
              "      <td>...</td>\n",
              "      <td>0</td>\n",
              "      <td>1</td>\n",
              "      <td>0</td>\n",
              "      <td>1</td>\n",
              "      <td>0</td>\n",
              "      <td>0</td>\n",
              "      <td>1</td>\n",
              "      <td>0</td>\n",
              "      <td>0</td>\n",
              "      <td>False</td>\n",
              "    </tr>\n",
              "    <tr>\n",
              "      <th>4</th>\n",
              "      <td>0</td>\n",
              "      <td>0</td>\n",
              "      <td>0</td>\n",
              "      <td>1</td>\n",
              "      <td>male</td>\n",
              "      <td>0</td>\n",
              "      <td>1</td>\n",
              "      <td>0</td>\n",
              "      <td>1</td>\n",
              "      <td>0</td>\n",
              "      <td>...</td>\n",
              "      <td>0</td>\n",
              "      <td>1</td>\n",
              "      <td>0</td>\n",
              "      <td>0</td>\n",
              "      <td>0</td>\n",
              "      <td>1</td>\n",
              "      <td>0</td>\n",
              "      <td>0</td>\n",
              "      <td>1</td>\n",
              "      <td>True</td>\n",
              "    </tr>\n",
              "  </tbody>\n",
              "</table>\n",
              "<p>5 rows × 31 columns</p>\n",
              "</div>"
            ],
            "text/plain": [
              "   survived  1_pclass  2_pclass  3_pclass     sex  0to25_age  26to50_age  \\\n",
              "0         0         0         0         1    male          1           0   \n",
              "1         1         1         0         0  female          0           1   \n",
              "2         1         0         0         1  female          0           1   \n",
              "3         1         1         0         0  female          0           1   \n",
              "4         0         0         0         1    male          0           1   \n",
              "\n",
              "   50to75_age  0_sibsp  1_sibsp  ...  6_parch  0to200_fare  200to400_fare  \\\n",
              "0           0        0        1  ...        0            1              0   \n",
              "1           0        0        1  ...        0            1              0   \n",
              "2           0        1        0  ...        0            1              0   \n",
              "3           0        0        1  ...        0            1              0   \n",
              "4           0        1        0  ...        0            1              0   \n",
              "\n",
              "   First_class  Second_class  Third_class  First_class_deck  \\\n",
              "0            0             0            1                 0   \n",
              "1            1             0            0                 1   \n",
              "2            0             0            1                 0   \n",
              "3            1             0            0                 1   \n",
              "4            0             0            1                 0   \n",
              "\n",
              "   Second_class_deck  Third_class_deck  alone  \n",
              "0                  0                 1  False  \n",
              "1                  0                 0  False  \n",
              "2                  0                 1   True  \n",
              "3                  0                 0  False  \n",
              "4                  0                 1   True  \n",
              "\n",
              "[5 rows x 31 columns]"
            ]
          },
          "execution_count": 25,
          "metadata": {},
          "output_type": "execute_result"
        }
      ],
      "source": [
        "frames = [df['survived'], pclass_, df['sex'], age_, sibsp_, parch_, fare_, class_, deck_, df['alone']]\n",
        "df_binarized = pd.concat(frames, axis=1)\n",
        "\n",
        "df_binarized.head()"
      ]
    },
    {
      "cell_type": "code",
      "execution_count": null,
      "metadata": {
        "id": "uXlzr-m3q7oX"
      },
      "outputs": [],
      "source": [
        "df_binarized['sex'] = df_binarized['sex'].map({'male':0, 'female':1})\n",
        "df_binarized['alone'] = df_binarized['alone'].map({False:0, True:1})"
      ]
    },
    {
      "cell_type": "code",
      "execution_count": null,
      "metadata": {
        "id": "1-qoNOIUq7oX",
        "outputId": "da2b7343-33e9-417a-bb5d-675ca283bfc9"
      },
      "outputs": [
        {
          "name": "stdout",
          "output_type": "stream",
          "text": [
            "(782, 31)\n"
          ]
        },
        {
          "data": {
            "text/html": [
              "<div>\n",
              "<style scoped>\n",
              "    .dataframe tbody tr th:only-of-type {\n",
              "        vertical-align: middle;\n",
              "    }\n",
              "\n",
              "    .dataframe tbody tr th {\n",
              "        vertical-align: top;\n",
              "    }\n",
              "\n",
              "    .dataframe thead th {\n",
              "        text-align: right;\n",
              "    }\n",
              "</style>\n",
              "<table border=\"1\" class=\"dataframe\">\n",
              "  <thead>\n",
              "    <tr style=\"text-align: right;\">\n",
              "      <th></th>\n",
              "      <th>survived</th>\n",
              "      <th>1_pclass</th>\n",
              "      <th>2_pclass</th>\n",
              "      <th>3_pclass</th>\n",
              "      <th>sex</th>\n",
              "      <th>0to25_age</th>\n",
              "      <th>26to50_age</th>\n",
              "      <th>50to75_age</th>\n",
              "      <th>0_sibsp</th>\n",
              "      <th>1_sibsp</th>\n",
              "      <th>...</th>\n",
              "      <th>6_parch</th>\n",
              "      <th>0to200_fare</th>\n",
              "      <th>200to400_fare</th>\n",
              "      <th>First_class</th>\n",
              "      <th>Second_class</th>\n",
              "      <th>Third_class</th>\n",
              "      <th>First_class_deck</th>\n",
              "      <th>Second_class_deck</th>\n",
              "      <th>Third_class_deck</th>\n",
              "      <th>alone</th>\n",
              "    </tr>\n",
              "  </thead>\n",
              "  <tbody>\n",
              "    <tr>\n",
              "      <th>0</th>\n",
              "      <td>0</td>\n",
              "      <td>0</td>\n",
              "      <td>0</td>\n",
              "      <td>1</td>\n",
              "      <td>0</td>\n",
              "      <td>1</td>\n",
              "      <td>0</td>\n",
              "      <td>0</td>\n",
              "      <td>0</td>\n",
              "      <td>1</td>\n",
              "      <td>...</td>\n",
              "      <td>0</td>\n",
              "      <td>1</td>\n",
              "      <td>0</td>\n",
              "      <td>0</td>\n",
              "      <td>0</td>\n",
              "      <td>1</td>\n",
              "      <td>0</td>\n",
              "      <td>0</td>\n",
              "      <td>1</td>\n",
              "      <td>0</td>\n",
              "    </tr>\n",
              "    <tr>\n",
              "      <th>1</th>\n",
              "      <td>1</td>\n",
              "      <td>1</td>\n",
              "      <td>0</td>\n",
              "      <td>0</td>\n",
              "      <td>1</td>\n",
              "      <td>0</td>\n",
              "      <td>1</td>\n",
              "      <td>0</td>\n",
              "      <td>0</td>\n",
              "      <td>1</td>\n",
              "      <td>...</td>\n",
              "      <td>0</td>\n",
              "      <td>1</td>\n",
              "      <td>0</td>\n",
              "      <td>1</td>\n",
              "      <td>0</td>\n",
              "      <td>0</td>\n",
              "      <td>1</td>\n",
              "      <td>0</td>\n",
              "      <td>0</td>\n",
              "      <td>0</td>\n",
              "    </tr>\n",
              "    <tr>\n",
              "      <th>2</th>\n",
              "      <td>1</td>\n",
              "      <td>0</td>\n",
              "      <td>0</td>\n",
              "      <td>1</td>\n",
              "      <td>1</td>\n",
              "      <td>0</td>\n",
              "      <td>1</td>\n",
              "      <td>0</td>\n",
              "      <td>1</td>\n",
              "      <td>0</td>\n",
              "      <td>...</td>\n",
              "      <td>0</td>\n",
              "      <td>1</td>\n",
              "      <td>0</td>\n",
              "      <td>0</td>\n",
              "      <td>0</td>\n",
              "      <td>1</td>\n",
              "      <td>0</td>\n",
              "      <td>0</td>\n",
              "      <td>1</td>\n",
              "      <td>1</td>\n",
              "    </tr>\n",
              "    <tr>\n",
              "      <th>3</th>\n",
              "      <td>1</td>\n",
              "      <td>1</td>\n",
              "      <td>0</td>\n",
              "      <td>0</td>\n",
              "      <td>1</td>\n",
              "      <td>0</td>\n",
              "      <td>1</td>\n",
              "      <td>0</td>\n",
              "      <td>0</td>\n",
              "      <td>1</td>\n",
              "      <td>...</td>\n",
              "      <td>0</td>\n",
              "      <td>1</td>\n",
              "      <td>0</td>\n",
              "      <td>1</td>\n",
              "      <td>0</td>\n",
              "      <td>0</td>\n",
              "      <td>1</td>\n",
              "      <td>0</td>\n",
              "      <td>0</td>\n",
              "      <td>0</td>\n",
              "    </tr>\n",
              "    <tr>\n",
              "      <th>4</th>\n",
              "      <td>0</td>\n",
              "      <td>0</td>\n",
              "      <td>0</td>\n",
              "      <td>1</td>\n",
              "      <td>0</td>\n",
              "      <td>0</td>\n",
              "      <td>1</td>\n",
              "      <td>0</td>\n",
              "      <td>1</td>\n",
              "      <td>0</td>\n",
              "      <td>...</td>\n",
              "      <td>0</td>\n",
              "      <td>1</td>\n",
              "      <td>0</td>\n",
              "      <td>0</td>\n",
              "      <td>0</td>\n",
              "      <td>1</td>\n",
              "      <td>0</td>\n",
              "      <td>0</td>\n",
              "      <td>1</td>\n",
              "      <td>1</td>\n",
              "    </tr>\n",
              "  </tbody>\n",
              "</table>\n",
              "<p>5 rows × 31 columns</p>\n",
              "</div>"
            ],
            "text/plain": [
              "   survived  1_pclass  2_pclass  3_pclass  sex  0to25_age  26to50_age  \\\n",
              "0         0         0         0         1    0          1           0   \n",
              "1         1         1         0         0    1          0           1   \n",
              "2         1         0         0         1    1          0           1   \n",
              "3         1         1         0         0    1          0           1   \n",
              "4         0         0         0         1    0          0           1   \n",
              "\n",
              "   50to75_age  0_sibsp  1_sibsp  ...  6_parch  0to200_fare  200to400_fare  \\\n",
              "0           0        0        1  ...        0            1              0   \n",
              "1           0        0        1  ...        0            1              0   \n",
              "2           0        1        0  ...        0            1              0   \n",
              "3           0        0        1  ...        0            1              0   \n",
              "4           0        1        0  ...        0            1              0   \n",
              "\n",
              "   First_class  Second_class  Third_class  First_class_deck  \\\n",
              "0            0             0            1                 0   \n",
              "1            1             0            0                 1   \n",
              "2            0             0            1                 0   \n",
              "3            1             0            0                 1   \n",
              "4            0             0            1                 0   \n",
              "\n",
              "   Second_class_deck  Third_class_deck  alone  \n",
              "0                  0                 1      0  \n",
              "1                  0                 0      0  \n",
              "2                  0                 1      1  \n",
              "3                  0                 0      0  \n",
              "4                  0                 1      1  \n",
              "\n",
              "[5 rows x 31 columns]"
            ]
          },
          "execution_count": 27,
          "metadata": {},
          "output_type": "execute_result"
        }
      ],
      "source": [
        "print(df_binarized.shape)\n",
        "df_binarized.head()"
      ]
    },
    {
      "cell_type": "markdown",
      "metadata": {
        "id": "BYeuY7GPq7oY"
      },
      "source": [
        "### Train Test Split Data"
      ]
    },
    {
      "cell_type": "code",
      "execution_count": null,
      "metadata": {
        "id": "ypWnG7R7q7oY"
      },
      "outputs": [],
      "source": [
        "x = df.drop('survived', axis=1)\n",
        "x_b = df_binarized.drop('survived', axis=1)\n",
        "y = df['survived']"
      ]
    },
    {
      "cell_type": "markdown",
      "metadata": {
        "id": "6tTuUGx6q7oY"
      },
      "source": [
        "**Binarized Values Split**"
      ]
    },
    {
      "cell_type": "code",
      "execution_count": null,
      "metadata": {
        "id": "hx9sc-btq7oY"
      },
      "outputs": [],
      "source": [
        "X_train_b, X_test_b, Y_train_b, Y_test_b = train_test_split(x_b, y, test_size=0.7, random_state=1)"
      ]
    },
    {
      "cell_type": "code",
      "execution_count": null,
      "metadata": {
        "id": "k1fN0XTaq7oZ",
        "outputId": "399399cc-7bd8-4485-a19c-fb8250037939"
      },
      "outputs": [
        {
          "name": "stdout",
          "output_type": "stream",
          "text": [
            "X_train_b shape : (234, 30)\n",
            "X_test_b shape : (548, 30)\n",
            "Y_train_b shape : (234,)\n",
            "Y_test_b shape : (548,)\n"
          ]
        }
      ],
      "source": [
        "print(\"X_train_b shape :\",X_train_b.shape)\n",
        "print(\"X_test_b shape :\",X_test_b.shape)\n",
        "print(\"Y_train_b shape :\",Y_train_b.shape)\n",
        "print(\"Y_test_b shape :\",Y_test_b.shape)"
      ]
    },
    {
      "cell_type": "markdown",
      "metadata": {
        "id": "-vLFyFZZq7oZ"
      },
      "source": [
        "**Real Values Split**"
      ]
    },
    {
      "cell_type": "code",
      "execution_count": null,
      "metadata": {
        "id": "auOg0LLnq7om"
      },
      "outputs": [],
      "source": [
        "X_train, X_test, Y_train, Y_test = train_test_split(x, y, test_size=0.7, random_state=1)"
      ]
    },
    {
      "cell_type": "code",
      "execution_count": null,
      "metadata": {
        "id": "tQO_E8AHq7om",
        "outputId": "da91005b-8d47-4c8b-ca57-12763dc74eda"
      },
      "outputs": [
        {
          "name": "stdout",
          "output_type": "stream",
          "text": [
            "X_train shape : (234, 10)\n",
            "X_test shape : (548, 10)\n",
            "Y_train shape : (234,)\n",
            "Y_test shape : (548,)\n"
          ]
        }
      ],
      "source": [
        "print(\"X_train shape :\",X_train.shape)\n",
        "print(\"X_test shape :\",X_test.shape)\n",
        "print(\"Y_train shape :\",Y_train.shape)\n",
        "print(\"Y_test shape :\",Y_test.shape)"
      ]
    },
    {
      "cell_type": "markdown",
      "metadata": {
        "id": "qpCOU7XXq7on"
      },
      "source": [
        "### MP Neuron"
      ]
    },
    {
      "cell_type": "code",
      "execution_count": null,
      "metadata": {
        "id": "mXWpLkP2q7on",
        "outputId": "62a885ad-3e5c-4f0c-a030-75e578ec336e"
      },
      "outputs": [
        {
          "name": "stdout",
          "output_type": "stream",
          "text": [
            "For row 326\n",
            "MP Neuron inference is 1\n",
            "Ground truth is 1\n"
          ]
        }
      ],
      "source": [
        "b = 10\n",
        "\n",
        "i = 326\n",
        "\n",
        "print(\"For row\", i)\n",
        "\n",
        "if (np.sum(X_train_b.loc[i]) >= b):\n",
        "    print(\"MP Neuron inference is 0\")\n",
        "else:\n",
        "    print(\"MP Neuron inference is 1\")\n",
        "\n",
        "if (Y_train_b[i] == 1):\n",
        "    print(\"Ground Truth is 0\")\n",
        "else:\n",
        "    print(\"Ground truth is 1\")"
      ]
    },
    {
      "cell_type": "code",
      "execution_count": null,
      "metadata": {
        "id": "uffTCmy0q7on",
        "outputId": "c782ff97-97aa-440c-9fcb-7e8d84f916eb"
      },
      "outputs": [
        {
          "name": "stdout",
          "output_type": "stream",
          "text": [
            "124 0.5299145299145299\n"
          ]
        }
      ],
      "source": [
        "b = 10\n",
        "\n",
        "Y_pred_train = []\n",
        "accurate_rows = 0\n",
        "\n",
        "for i in X_train_b.index:\n",
        "    x = X_train_b.loc[i]\n",
        "    y = Y_train_b.loc[i]\n",
        "    y_pred = (np.sum(x) >= b)\n",
        "    Y_pred_train.append(y_pred)\n",
        "    accurate_rows += (y == y_pred)\n",
        "\n",
        "print(accurate_rows, accurate_rows/X_train_b.shape[0])"
      ]
    },
    {
      "cell_type": "code",
      "execution_count": null,
      "metadata": {
        "id": "NM3oabizq7oo",
        "outputId": "e40e54d8-e5fa-4799-a697-95237afed5ad"
      },
      "outputs": [
        {
          "name": "stdout",
          "output_type": "stream",
          "text": [
            "0 110 0.4701\n",
            "1 110 0.4701\n",
            "2 110 0.4701\n",
            "3 110 0.4701\n",
            "4 110 0.4701\n",
            "5 110 0.4701\n",
            "6 110 0.4701\n",
            "7 110 0.4701\n",
            "8 128 0.547\n",
            "9 156 0.6667\n",
            "10 124 0.5299\n",
            "11 124 0.5299\n",
            "12 124 0.5299\n",
            "13 124 0.5299\n",
            "14 124 0.5299\n",
            "15 124 0.5299\n",
            "16 124 0.5299\n",
            "17 124 0.5299\n",
            "18 124 0.5299\n",
            "19 124 0.5299\n",
            "20 124 0.5299\n",
            "21 124 0.5299\n",
            "22 124 0.5299\n",
            "23 124 0.5299\n",
            "24 124 0.5299\n",
            "25 124 0.5299\n",
            "26 124 0.5299\n",
            "27 124 0.5299\n",
            "28 124 0.5299\n",
            "29 124 0.5299\n",
            "30 124 0.5299\n"
          ]
        }
      ],
      "source": [
        "for b in range(X_train_b.shape[1] + 1):\n",
        "    Y_pred_train = []\n",
        "    accurate_rows = 0\n",
        "\n",
        "    for i in X_train_b.index:\n",
        "        x = X_train_b.loc[i]\n",
        "        y = Y_train_b.loc[i]\n",
        "        y_pred = (np.sum(x) >= b)\n",
        "        Y_pred_train.append(y_pred)\n",
        "        accurate_rows += (y == y_pred)\n",
        "\n",
        "    print(b, accurate_rows, round(accurate_rows/X_train_b.shape[0],4))"
      ]
    },
    {
      "cell_type": "code",
      "execution_count": null,
      "metadata": {
        "id": "HEVlmHajq7oo",
        "outputId": "c3b124bb-c8e4-4e21-bff5-ccc8a51f1d7c"
      },
      "outputs": [
        {
          "name": "stdout",
          "output_type": "stream",
          "text": [
            "9 0.6642\n"
          ]
        }
      ],
      "source": [
        "b = 9\n",
        "\n",
        "Y_pred_test = []\n",
        "\n",
        "for i in X_test_b.index:\n",
        "    y_pred = (np.sum(X_test_b.loc[i]) >= b)\n",
        "    Y_pred_test.append(y_pred)\n",
        "\n",
        "accuracy = round(accuracy_score(Y_pred_test, Y_test),4)\n",
        "print(b,accuracy)"
      ]
    },
    {
      "cell_type": "markdown",
      "metadata": {
        "id": "vDKEKuJlq7op"
      },
      "source": [
        "**MP Neuron Class**"
      ]
    },
    {
      "cell_type": "code",
      "execution_count": null,
      "metadata": {
        "id": "6StySeZoq7op"
      },
      "outputs": [],
      "source": [
        "class MPNeuron:\n",
        "\n",
        "    def __init__(self):\n",
        "        self.b = None\n",
        "\n",
        "    def model(self, x):\n",
        "        return(sum(x) >= self.b)\n",
        "\n",
        "    def predict(self, X):\n",
        "        Y = []\n",
        "        for i in X.index:\n",
        "            result = self.model(X.loc[i])\n",
        "            Y.append(result)\n",
        "        return np.array(Y)\n",
        "\n",
        "    def fit(self, X, Y):\n",
        "        accuracy = {}\n",
        "        print(type(X.shape[1]))\n",
        "        for b in range(X.shape[1]+1):\n",
        "            self.b = b\n",
        "            Y_pred = self.predict(X)\n",
        "            accuracy[b] = accuracy_score(Y_pred, Y)\n",
        "\n",
        "        best_b = max(accuracy,key = accuracy.get)\n",
        "        self.b = best_b\n",
        "\n",
        "        print('Optimal Value of  is', best_b)\n",
        "        print('Highest accuracy is',round(accuracy[best_b],4))"
      ]
    },
    {
      "cell_type": "markdown",
      "metadata": {
        "id": "Oqf_7skAq7op"
      },
      "source": [
        "**Fit MP Neuron Class and Predict Results**"
      ]
    },
    {
      "cell_type": "code",
      "execution_count": null,
      "metadata": {
        "id": "49D4Z1Gqq7op",
        "outputId": "437dd009-b120-4502-c72b-88f99915537f"
      },
      "outputs": [
        {
          "name": "stdout",
          "output_type": "stream",
          "text": [
            "<class 'int'>\n",
            "Optimal Value of  is 9\n",
            "Highest accuracy is 0.6667\n"
          ]
        }
      ],
      "source": [
        "mp_neuron = MPNeuron()\n",
        "mp_neuron.fit(X_train_b, Y_train_b)"
      ]
    },
    {
      "cell_type": "code",
      "execution_count": null,
      "metadata": {
        "id": "Zk7e6M_hq7oq",
        "outputId": "5ed5c8b2-a20d-4e87-a2a7-54337aa404fd"
      },
      "outputs": [
        {
          "name": "stdout",
          "output_type": "stream",
          "text": [
            "0.6642\n"
          ]
        }
      ],
      "source": [
        "Y_test_pred = mp_neuron.predict(X_test_b)\n",
        "accuracy_test = round(accuracy_score(Y_test_pred, Y_test_b),4)\n",
        "\n",
        "print(accuracy_test)"
      ]
    },
    {
      "cell_type": "markdown",
      "metadata": {
        "id": "JZyycnYFq7oq"
      },
      "source": [
        "### Perceptron"
      ]
    },
    {
      "cell_type": "markdown",
      "metadata": {
        "id": "moa8OTR3q7oq"
      },
      "source": [
        "**Perceptron Class**"
      ]
    },
    {
      "cell_type": "code",
      "execution_count": null,
      "metadata": {
        "id": "G3H1HNSfq7or"
      },
      "outputs": [],
      "source": [
        "class Perceptron:\n",
        "\n",
        "    def __init__ (self):\n",
        "        self.w = None\n",
        "        self.b = None\n",
        "\n",
        "    def model(self, x):\n",
        "        #print(x)\n",
        "        return 1 if ((np.dot(self.w, x)) >= self.b) else 0\n",
        "\n",
        "    def predict(self, X):\n",
        "        Y = []\n",
        "        for i in X.index:\n",
        "            result = self.model(X.loc[i])\n",
        "            Y.append(result)\n",
        "        return np.array(Y)\n",
        "\n",
        "    def fit(self, X, Y, epochs = 1, lr = 1):\n",
        "        self.w = np.ones(X.shape[1])\n",
        "        self.b = 0\n",
        "        accuracy = {}\n",
        "        max_accuracy = 0\n",
        "        for i in range(epochs):\n",
        "            for index_ in X.index:\n",
        "                #print(X.loc[index_])\n",
        "                #print(self.w)\n",
        "                y_pred = self.model(X.loc[index_])\n",
        "                #print(y_pred)\n",
        "                if ((Y.loc[index_] == 1) and (y_pred == 0)):\n",
        "                    self.w = self.w + lr * x\n",
        "                    self.b = self.b - lr * 1\n",
        "                elif ((Y.loc[index_] == 0) and (y_pred == 1)):\n",
        "                    self.w = self.w - lr * x\n",
        "                    self.b = self.b + lr * 1\n",
        "\n",
        "            accuracy[i] = accuracy_score(self.predict(X), Y)\n",
        "            if (accuracy[i] > max_accuracy):\n",
        "                max_accuracy = accuracy[i]\n",
        "                chkptw = self.w\n",
        "                chkptb = self.b\n",
        "\n",
        "        self.w = chkptw\n",
        "        self.b = chkptb\n",
        "\n",
        "        print(\"Max Accuracy\", round(max_accuracy,4))\n",
        ""
      ]
    },
    {
      "cell_type": "markdown",
      "metadata": {
        "id": "HzCTPSOfq7or"
      },
      "source": [
        "**Fit Perceptron Class and Predict Results**"
      ]
    },
    {
      "cell_type": "code",
      "execution_count": null,
      "metadata": {
        "id": "FXcVc_-Cq7os",
        "outputId": "7172e55a-3c81-437b-d764-bfa18c79a52b"
      },
      "outputs": [
        {
          "name": "stdout",
          "output_type": "stream",
          "text": [
            "Max Accuracy 0.6795\n"
          ]
        }
      ],
      "source": [
        "perceptron = Perceptron()\n",
        "perceptron.fit(X_train_b, Y_train_b, 10, 0.1)"
      ]
    },
    {
      "cell_type": "code",
      "execution_count": null,
      "metadata": {
        "id": "ivqCMYfVq7os",
        "outputId": "fef27496-7421-45ef-b1ec-9ef2be97ea1a"
      },
      "outputs": [
        {
          "name": "stdout",
          "output_type": "stream",
          "text": [
            "0.7427\n"
          ]
        }
      ],
      "source": [
        "Y_pred_test = perceptron.predict(X_test_b)\n",
        "print(round(accuracy_score(Y_pred_test, Y_test_b),4))"
      ]
    }
  ],
  "metadata": {
    "kernelspec": {
      "display_name": "Python 3",
      "language": "python",
      "name": "python3"
    },
    "language_info": {
      "codemirror_mode": {
        "name": "ipython",
        "version": 3
      },
      "file_extension": ".py",
      "mimetype": "text/x-python",
      "name": "python",
      "nbconvert_exporter": "python",
      "pygments_lexer": "ipython3",
      "version": "3.8.3"
    },
    "colab": {
      "provenance": []
    }
  },
  "nbformat": 4,
  "nbformat_minor": 0
}